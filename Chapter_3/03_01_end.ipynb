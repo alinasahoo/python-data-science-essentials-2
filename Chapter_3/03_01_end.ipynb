{
 "cells": [
  {
   "cell_type": "markdown",
   "metadata": {},
   "source": [
    "# Chapter 3 - Regressoin Models\n",
    "## Segment 1 - Simple linear regression"
   ]
  },
  {
   "cell_type": "code",
   "execution_count": 1,
   "metadata": {},
   "outputs": [],
   "source": [
    "import numpy as np\n",
    "import pandas as pd\n",
    "import matplotlib.pyplot as plt\n",
    "import sklearn\n",
    "\n",
    "from pylab import rcParams\n",
    "\n",
    "from sklearn.linear_model import LinearRegression\n",
    "from sklearn.preprocessing import scale"
   ]
  },
  {
   "cell_type": "code",
   "execution_count": 2,
   "metadata": {},
   "outputs": [],
   "source": [
    "%matplotlib inline\n",
    "rcParams['figure.figsize'] = 10,8"
   ]
  },
  {
   "cell_type": "code",
   "execution_count": 3,
   "metadata": {},
   "outputs": [
    {
     "data": {
      "text/plain": [
       "array([[3.06231794],\n",
       "       [4.77402931],\n",
       "       [4.51755297],\n",
       "       [4.24607528],\n",
       "       [3.95200627],\n",
       "       [3.86374262],\n",
       "       [4.51703652],\n",
       "       [4.88123244],\n",
       "       [3.69405534]])"
      ]
     },
     "execution_count": 3,
     "metadata": {},
     "output_type": "execute_result"
    }
   ],
   "source": [
    "rooms = 2*np.random.rand(100, 1)+3\n",
    "rooms[1:10]"
   ]
  },
  {
   "cell_type": "code",
   "execution_count": 4,
   "metadata": {},
   "outputs": [
    {
     "data": {
      "text/plain": [
       "array([[284.61536354],\n",
       "       [294.42791597],\n",
       "       [292.74523584],\n",
       "       [290.90225698],\n",
       "       [289.30555901],\n",
       "       [289.04479921],\n",
       "       [292.12902076],\n",
       "       [295.43101571],\n",
       "       [287.40887042]])"
      ]
     },
     "execution_count": 4,
     "metadata": {},
     "output_type": "execute_result"
    }
   ],
   "source": [
    "price = 265 + 6*rooms +abs(np.random.randn(100, 1))\n",
    "price[1:10]"
   ]
  },
  {
   "cell_type": "code",
   "execution_count": 5,
   "metadata": {},
   "outputs": [
    {
     "data": {
      "image/png": "[encoded data removed]",
      "text/plain": [
       "<Figure size 720x576 with 1 Axes>"
      ]
     },
     "metadata": {
      "needs_background": "light"
     },
     "output_type": "display_data"
    }
   ],
   "source": [
    "plt.plot(rooms, price, 'r^')\n",
    "plt.xlabel(\"# of Rooms, 2019 Average\")\n",
    "plt.ylabel(\"2019 Average Home, 1000s USD\")\n",
    "plt.show()"
   ]
  },
  {
   "cell_type": "code",
   "execution_count": 6,
   "metadata": {},
   "outputs": [
    {
     "name": "stdout",
     "output_type": "stream",
     "text": [
      "[265.55197927] [[6.07258065]]\n"
     ]
    }
   ],
   "source": [
    "X = rooms\n",
    "y = price\n",
    "\n",
    "LinReg = LinearRegression()\n",
    "LinReg.fit(X,y)\n",
    "print(LinReg.intercept_, LinReg.coef_)"
   ]
  },
  {
   "cell_type": "markdown",
   "metadata": {},
   "source": [
    "*Simple Algebra*\n",
    "- y = mx + b\n",
    "- b = intercept = 265.7\n",
    "\n",
    "*Estimated Coefficients*\n",
    "- LinReg.coef_ = [5.99] Estimated coefficients for the terms in the linear regression problem."
   ]
  },
  {
   "cell_type": "code",
   "execution_count": 7,
   "metadata": {},
   "outputs": [
    {
     "name": "stdout",
     "output_type": "stream",
     "text": [
      "0.9773496280582339\n"
     ]
    }
   ],
   "source": [
    "print(LinReg.score(X,y))"
   ]
  }
 ],
 "metadata": {
  "kernelspec": {
   "display_name": "Python 3",
   "language": "python",
   "name": "python3"
  },
  "language_info": {
   "codemirror_mode": {
    "name": "ipython",
    "version": 3
   },
   "file_extension": ".py",
   "mimetype": "text/x-python",
   "name": "python",
   "nbconvert_exporter": "python",
   "pygments_lexer": "ipython3",
   "version": "3.8.3"
  },
  "nav_menu": {
   "height": "279px",
   "width": "309px"
  },
  "toc": {
   "navigate_menu": true,
   "number_sections": true,
   "sideBar": true,
   "threshold": 6,
   "toc_cell": false,
   "toc_section_display": "block",
   "toc_window_display": false
  }
 },
 "nbformat": 4,
 "nbformat_minor": 1
}
